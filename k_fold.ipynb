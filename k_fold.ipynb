{
  "cells": [
    {
      "cell_type": "markdown",
      "metadata": {
        "colab_type": "text",
        "id": "view-in-github"
      },
      "source": [
        "<a href=\"https://colab.research.google.com/github/pydevcasts/Dr.RahimPour_ml_practise/blob/main/k_fold.ipynb\" target=\"_parent\"><img src=\"https://colab.research.google.com/assets/colab-badge.svg\" alt=\"Open In Colab\"/></a>"
      ]
    },
    {
      "cell_type": "markdown",
      "metadata": {
        "id": "qjHRdxVEF6j9"
      },
      "source": [
        "## K-fold CV — Hyper-parameter tuning in Python"
      ]
    },
    {
      "cell_type": "markdown",
      "metadata": {},
      "source": [
        "## Visit on the Google-colab:\n",
        "https://colab.research.google.com/drive/11guNSRhH-mqy8-_X9LSgk0RFEfyhaH6T#scrollTo=3v2NEqSnD6tr"
      ]
    },
    {
      "cell_type": "code",
      "execution_count": 3,
      "metadata": {
        "colab": {
          "base_uri": "https://localhost:8080/"
        },
        "id": "3v2NEqSnD6tr",
        "outputId": "8a2bb060-d842-4250-d643-3efe12fdb623"
      },
      "outputs": [
        {
          "name": "stdout",
          "output_type": "stream",
          "text": [
            "+--------------+---------------------+--------------+\n",
            "| p (distance) | Number of neighbors | Avg accuracy |\n",
            "+--------------+---------------------+--------------+\n",
            "|      1       |          2          |    0.958     |\n",
            "|      1       |          3          |    0.967     |\n",
            "|      1       |          4          |    0.967     |\n",
            "|      1       |          5          |    0.975     |\n",
            "|      1       |          6          |    0.967     |\n",
            "|      2       |          2          |    0.967     |\n",
            "|      2       |          3          |    0.983     |\n",
            "|      2       |          4          |    0.975     |\n",
            "|      2       |          5          |    0.983     |\n",
            "|      2       |          6          |    0.975     |\n",
            "|      3       |          2          |    0.967     |\n",
            "|      3       |          3          |    0.975     |\n",
            "|      3       |          4          |    0.975     |\n",
            "|      3       |          5          |    0.983     |\n",
            "|      3       |          6          |    0.975     |\n",
            "+--------------+---------------------+--------------+\n",
            "Best Model Testing Score:  0.9333333333333333\n"
          ]
        }
      ],
      "source": [
        "import pandas as pd\n",
        "import numpy as np\n",
        "from sklearn.model_selection import train_test_split\n",
        "from sklearn.neighbors import KNeighborsClassifier\n",
        "from sklearn.model_selection import cross_validate\n",
        "from prettytable import PrettyTable\n",
        "\n",
        "# Read and inspect data\n",
        "data = pd.read_csv('./iris.csv')\n",
        "data.head()\n",
        "\n",
        "# train/test split (80/20)\n",
        "characteristics = data.iloc[:,:4] # the first 4 columns\n",
        "target = data.iloc[:,-1] # the last column\n",
        "x_train, x_test, y_train, y_test = train_test_split(characteristics, target, test_size=0.2, random_state=2727)\n",
        "\n",
        "# cross validation for hyperparameter tuning\n",
        "hyperparameter_score_list = []\n",
        "for p in range(1,4):\n",
        "    for neighbor in range(2,7):\n",
        "        knn = KNeighborsClassifier(p=p, n_neighbors=neighbor)\n",
        "        scores = cross_validate(knn, x_train, y_train, cv=10, scoring='accuracy')\n",
        "        mean_score = np.mean(scores['test_score'])\n",
        "        hyperparameter_score_list.append([p, neighbor, mean_score])\n",
        "\n",
        "# choose the hyper-parameters (with highest average accuracy)\n",
        "myTable = PrettyTable([\"p (distance)\", \"Number of neighbors\", \"Avg accuracy\"])\n",
        "for row in hyperparameter_score_list:\n",
        "    myTable.add_row([row[0], row[1], round(row[2],3)])\n",
        "print(myTable)\n",
        "\n",
        "# evaluate the performance of model with the Best parameters on testing set\n",
        "knn = KNeighborsClassifier(p=2, n_neighbors=3)\n",
        "knn_best_model = knn.fit(x_train, y_train)\n",
        "print(\"Best Model Testing Score: \", knn_best_model.score(x_test, y_test))\n"
      ]
    }
  ],
  "metadata": {
    "colab": {
      "authorship_tag": "ABX9TyNOMDk7bQJAnv7bVpPu9SzV",
      "include_colab_link": true,
      "provenance": []
    },
    "kernelspec": {
      "display_name": "Python 3",
      "name": "python3"
    },
    "language_info": {
      "name": "python"
    }
  },
  "nbformat": 4,
  "nbformat_minor": 0
}
