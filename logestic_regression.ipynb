{
  "nbformat": 4,
  "nbformat_minor": 0,
  "metadata": {
    "colab": {
      "provenance": [],
      "authorship_tag": "ABX9TyPBDYlmN2qXxdEh8oXy+9VU",
      "include_colab_link": true
    },
    "kernelspec": {
      "name": "python3",
      "display_name": "Python 3"
    },
    "language_info": {
      "name": "python"
    }
  },
  "cells": [
    {
      "cell_type": "markdown",
      "metadata": {
        "id": "view-in-github",
        "colab_type": "text"
      },
      "source": [
        "<a href=\"https://colab.research.google.com/github/pydevcasts/Dr.RahimPour_ml_practise/blob/main/logestic_regression.ipynb\" target=\"_parent\"><img src=\"https://colab.research.google.com/assets/colab-badge.svg\" alt=\"Open In Colab\"/></a>"
      ]
    },
    {
      "cell_type": "markdown",
      "source": [
        "## Visit on the Google-colab:"
      ],
      "metadata": {
        "id": "mjGTFw8sPnhF"
      }
    },
    {
      "cell_type": "markdown",
      "source": [
        "https://colab.research.google.com/drive/1myNEBis7a_WCldAmFntvtqEAxdZWnSdw#scrollTo=3YHFT3h1OaCe"
      ],
      "metadata": {
        "id": "dbWinfH6PgXH"
      }
    },
    {
      "cell_type": "markdown",
      "source": [
        "## Logestic Regression"
      ],
      "metadata": {
        "id": "BpI-VpagOcfD"
      }
    },
    {
      "cell_type": "code",
      "execution_count": 1,
      "metadata": {
        "colab": {
          "base_uri": "https://localhost:8080/",
          "height": 507
        },
        "id": "3YHFT3h1OaCe",
        "outputId": "19b2c9c1-a3ea-49bc-da07-5839bc554ac2"
      },
      "outputs": [
        {
          "output_type": "stream",
          "name": "stdout",
          "text": [
            "Initial cost value for theta values [0. 0. 0.] is: 0.6931471805599453\n"
          ]
        },
        {
          "output_type": "display_data",
          "data": {
            "text/plain": [
              "<Figure size 640x480 with 1 Axes>"
            ],
            "image/png": "[encoded data removed]"
          },
          "metadata": {}
        },
        {
          "output_type": "stream",
          "name": "stdout",
          "text": [
            "Final cost value for theta values [-0.70846899  3.04714971 -5.10943662] is: 0.10131731164299049\n"
          ]
        }
      ],
      "source": [
        "import pandas as pd\n",
        "import numpy as np\n",
        "import matplotlib.pyplot as plt\n",
        "\n",
        "def sigmoid(z):\n",
        "    return  1 / (1 + np.exp(-z))\n",
        "\n",
        "def cost(h, y):\n",
        "    return (-y * np.log(h) - (1 - y) * np.log(1 - h)).mean()\n",
        "\n",
        "def gradient(X, h, y):\n",
        "    return np.dot(X.T, (h - y)) / y.shape[0]\n",
        "\n",
        "def logistic_regression(X, y, theta, alpha, iters):\n",
        "    cost_array = np.zeros(iters)\n",
        "    for i in range(iters):\n",
        "        h = sigmoid(np.dot(X, theta))\n",
        "        cost_num = cost(h, y)\n",
        "        cost_array[i] = cost_num\n",
        "        gradient_val = gradient(X, h, y)\n",
        "        theta = theta - (gradient_val * alpha)\n",
        "    return theta, cost_array\n",
        "\n",
        "def plotChart(iterations, cost_num):\n",
        "    fig, ax = plt.subplots()\n",
        "    ax.plot(np.arange(iterations), cost_num, 'r')\n",
        "    ax.set_xlabel('Iterations')\n",
        "    ax.set_ylabel('Cost')\n",
        "    ax.set_title('Error vs Iterations')\n",
        "    plt.style.use('fivethirtyeight')\n",
        "    plt.show()\n",
        "\n",
        "def run():\n",
        "    # import data into a pandas dataframe\n",
        "    data = pd.read_csv('/content/irisdata.csv')\n",
        "\n",
        "    # extract data\n",
        "    X = data[['length', 'width']]\n",
        "    y = data['Type']\n",
        "\n",
        "    # add 1 column to allow vectorized calculations\n",
        "    X = np.concatenate((np.ones((X.shape[0], 1)), X), axis=1)\n",
        "\n",
        "    # Initial theta values\n",
        "    theta = np.zeros(X.shape[1])\n",
        "\n",
        "    # define hyperparameters\n",
        "    alpha = 0.01\n",
        "    iterations = 10000\n",
        "\n",
        "    # Starting values\n",
        "    h = sigmoid(np.dot(X, theta))\n",
        "    print(\"Initial cost value for theta values {0} is: {1}\".format(theta, cost(h,y)))\n",
        "\n",
        "    # run logistic regression\n",
        "    theta, cost_num = logistic_regression(X, y, theta, alpha, iterations)\n",
        "\n",
        "    # display cost chart\n",
        "    plotChart(iterations, cost_num)\n",
        "\n",
        "    # final values\n",
        "    h = sigmoid(np.dot(X, theta))\n",
        "    print(\"Final cost value for theta values {0} is: {1}\".format(theta, cost(h,y)))\n",
        "\n",
        "if __name__ == \"__main__\":\n",
        "    run()"
      ]
    }
  ]
}